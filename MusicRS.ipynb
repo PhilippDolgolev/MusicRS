{
 "cells": [
  {
   "cell_type": "code",
   "execution_count": 1,
   "metadata": {
    "collapsed": false
   },
   "outputs": [],
   "source": [
    "import numpy as np\n",
    "from scipy.sparse import csr_matrix\n",
    "from scipy.sparse import csc_matrix\n",
    "from scipy.sparse import lil_matrix\n",
    "from scipy.sparse import vstack\n",
    "from scipy.sparse import spdiags\n",
    "from scipy import sparse, io\n",
    "from sklearn import cross_validation as cv\n",
    "from sklearn.metrics.pairwise import cosine_similarity\n",
    "from sklearn.preprocessing import normalize\n",
    "from sklearn.metrics import mean_squared_error\n",
    "from scipy.sparse import coo_matrix\n",
    "from math import sqrt\n",
    "from collections import Counter\n",
    "import random\n",
    "import math\n",
    "import time\n",
    "import matplotlib.pyplot as plt"
   ]
  },
  {
   "cell_type": "code",
   "execution_count": 2,
   "metadata": {
    "collapsed": true
   },
   "outputs": [],
   "source": [
    "users_limit = 1000000\n",
    "amount_of_songs = 384546"
   ]
  },
  {
   "cell_type": "code",
   "execution_count": 3,
   "metadata": {
    "collapsed": true
   },
   "outputs": [],
   "source": [
    "songs = dict()\n",
    "users = dict()\n",
    "\n",
    "def getSongNum(song):\n",
    "    if song not in songs:\n",
    "        songs[song] = len(songs)\n",
    "    return songs[song]\n",
    "\n",
    "def getUserNum(user):\n",
    "    if user not in users:\n",
    "        users[user] = len(users)\n",
    "    return users[user]"
   ]
  },
  {
   "cell_type": "code",
   "execution_count": 4,
   "metadata": {
    "collapsed": false
   },
   "outputs": [],
   "source": [
    "user_song_matrix = lil_matrix((users_limit, amount_of_songs), dtype=np.float64)\n",
    "train_data = lil_matrix((users_limit, amount_of_songs), dtype=np.float64)\n",
    "test_data = lil_matrix((users_limit, amount_of_songs), dtype=np.float64)\n",
    "f = open('train_triplets.txt')\n",
    "\n",
    "train_songs_amount = 0\n",
    "test_songs_amount = 0\n",
    "\n",
    "i = 0\n",
    "for line in f:\n",
    "    a = line.split('\\t')\n",
    "    userId = a[0]\n",
    "    songId = a[1]\n",
    "    count = int(a[2])\n",
    "    userNum = getUserNum(userId)\n",
    "    if ((userNum + 1) % (users_limit + 1) == 0):\n",
    "        break\n",
    "    count = min(math.log(count + 0.0001), 5)\n",
    "    user_song_matrix[userNum, getSongNum(songId)] = count\n",
    "    if (random.randint(1, 10) < 8):\n",
    "        train_data[userNum, getSongNum(songId)] = count\n",
    "        train_songs_amount = train_songs_amount + 1\n",
    "    else:\n",
    "        test_data[userNum, getSongNum(songId)] = count\n",
    "        test_songs_amount = test_songs_amount + 1\n",
    "f.close()"
   ]
  },
  {
   "cell_type": "code",
   "execution_count": 5,
   "metadata": {
    "collapsed": false
   },
   "outputs": [
    {
     "name": "stdout",
     "output_type": "stream",
     "text": [
      "33213606\n",
      "14233013\n"
     ]
    }
   ],
   "source": [
    "print(train_songs_amount)\n",
    "print(test_songs_amount)"
   ]
  },
  {
   "cell_type": "code",
   "execution_count": 6,
   "metadata": {
    "collapsed": false
   },
   "outputs": [],
   "source": [
    "users_limit = len(users) - 1\n",
    "amount_of_songs = len(songs)\n",
    "user_song_matrix = user_song_matrix[0:users_limit, 0:amount_of_songs].tocsr()\n",
    "train_data = train_data[0:users_limit, 0:amount_of_songs].tocsr()\n",
    "test_data = test_data[0:users_limit, 0:amount_of_songs].tocsr()"
   ]
  },
  {
   "cell_type": "code",
   "execution_count": 7,
   "metadata": {
    "collapsed": false
   },
   "outputs": [
    {
     "data": {
      "image/png": "[encoded data removed]",
      "text/plain": [
       "<matplotlib.figure.Figure at 0xe9aed3e6d8>"
      ]
     },
     "metadata": {},
     "output_type": "display_data"
    }
   ],
   "source": [
    "def rate(r):\n",
    "    return round(r)\n",
    "\n",
    "d = Counter(map(lambda x: rate(x), list(np.squeeze(np.asarray(user_song_matrix[user_song_matrix.nonzero()].flatten())))))\n",
    "X = np.arange(len(d))\n",
    "plt.bar(X, list(map(lambda x: x[1], sorted(zip(d.keys(), d.values())))), align='center', width=0.5)\n",
    "plt.xticks(X, sorted(d.keys()))\n",
    "ymax = max(d.values()) + 1\n",
    "plt.ylim(0, ymax)\n",
    "plt.show()"
   ]
  },
  {
   "cell_type": "code",
   "execution_count": 8,
   "metadata": {
    "collapsed": false
   },
   "outputs": [
    {
     "name": "stdout",
     "output_type": "stream",
     "text": [
      "Source matrix size: 361.98897552490234MB\n"
     ]
    }
   ],
   "source": [
    "print(\"Source matrix size: \" + str(user_song_matrix.data.nbytes / 1024 / 1024) + \"MB\")"
   ]
  },
  {
   "cell_type": "code",
   "execution_count": 9,
   "metadata": {
    "collapsed": false
   },
   "outputs": [
    {
     "name": "stdout",
     "output_type": "stream",
     "text": [
      "0\n",
      "30000\n",
      "(30000, 383923)\n",
      "39.64553689956665 213.89283275604248\n",
      "30000\n",
      "60000\n",
      "(30000, 383923)\n",
      "16.05339741706848 101.76156902313232\n",
      "60000\n",
      "90000\n",
      "(30000, 383923)\n",
      "10.488609313964844 65.6609570980072\n",
      "90000\n",
      "120000\n",
      "(30000, 383923)\n",
      "8.002181768417358 46.98237180709839\n",
      "120000\n",
      "150000\n",
      "(30000, 383923)\n",
      "6.85744047164917 37.12128520011902\n",
      "150000\n",
      "180000\n",
      "(30000, 383923)\n",
      "6.170309066772461 30.51886796951294\n",
      "180000\n",
      "210000\n",
      "(30000, 383923)\n",
      "5.762732744216919 26.124011516571045\n",
      "210000\n",
      "240000\n",
      "(30000, 383923)\n",
      "5.484688997268677 23.20486855506897\n",
      "240000\n",
      "270000\n",
      "(30000, 383923)\n",
      "5.283421039581299 20.936770915985107\n",
      "270000\n",
      "300000\n",
      "(30000, 383923)\n",
      "5.1464009284973145 18.949519395828247\n",
      "300000\n",
      "330000\n",
      "(30000, 383923)\n",
      "5.037261009216309 17.120428800582886\n",
      "330000\n",
      "360000\n",
      "(30000, 383923)\n",
      "4.977223873138428 14.350419521331787\n",
      "360000\n",
      "383923\n",
      "(23923, 383923)\n",
      "4.9141809940338135 8.60005497932434\n"
     ]
    }
   ],
   "source": [
    "m = 50\n",
    "batch_size = 30000\n",
    "song_user_matrix = train_data.T\n",
    "rows = []\n",
    "for row_id in range(song_user_matrix.shape[0]):\n",
    "    if (not (row_id % batch_size == 0)):\n",
    "        continue\n",
    "    print(row_id)\n",
    "    to = min(row_id+batch_size, song_user_matrix.shape[0])\n",
    "    print(to)\n",
    "    start_time = time.time()\n",
    "    batch = song_user_matrix[row_id:to]\n",
    "    batch = cosine_similarity(batch, song_user_matrix, dense_output=False)\n",
    "    print(batch.shape)\n",
    "    t1 = time.time()\n",
    "    for i in range(batch.shape[0]):\n",
    "        row = batch[i]\n",
    "        if row.nnz > m:\n",
    "            r = row.tolil()\n",
    "            r[0, row.nonzero()[1][np.argsort(row.data)[-m:]]] = 0\n",
    "            row = row - r.tocsr()\n",
    "        rows.append(row)\n",
    "    t2 = time.time()\n",
    "    if (row_id % 1000 == 0):\n",
    "        print(t1 - start_time, t2-t1)\n",
    "song_song_similarity = normalize(vstack(rows))"
   ]
  },
  {
   "cell_type": "code",
   "execution_count": 10,
   "metadata": {
    "collapsed": false
   },
   "outputs": [
    {
     "name": "stdout",
     "output_type": "stream",
     "text": [
      "Item-item matrix size: 138.1854705810547MB\n"
     ]
    }
   ],
   "source": [
    "print(\"Item-item matrix size: \" + str(song_song_similarity.data.nbytes / 1024 / 1024) + \"MB\")"
   ]
  },
  {
   "cell_type": "code",
   "execution_count": 11,
   "metadata": {
    "collapsed": false
   },
   "outputs": [],
   "source": [
    "def predict(ratings, similarity):\n",
    "    return ratings.dot(similarity)"
   ]
  },
  {
   "cell_type": "code",
   "execution_count": 12,
   "metadata": {
    "collapsed": false
   },
   "outputs": [],
   "source": [
    "item_prediction = predict(train_data, song_song_similarity)"
   ]
  },
  {
   "cell_type": "code",
   "execution_count": 13,
   "metadata": {
    "collapsed": false
   },
   "outputs": [],
   "source": [
    "def rmse(prediction, test_data):\n",
    "    prediction = prediction[test_data.nonzero()].flatten() \n",
    "    test_data = test_data[test_data.nonzero()].flatten()\n",
    "    return sqrt(mean_squared_error(prediction, test_data))\n",
    "def rmse_with_avg(test_data):\n",
    "    avg = np.zeros(test_data[test_data.nonzero()].flatten().shape, dtype=np.float64) + train_data.mean()\n",
    "    test_data = test_data[test_data.nonzero()].flatten()\n",
    "    return sqrt(mean_squared_error(avg, test_data))"
   ]
  },
  {
   "cell_type": "code",
   "execution_count": 14,
   "metadata": {
    "collapsed": false
   },
   "outputs": [
    {
     "name": "stdout",
     "output_type": "stream",
     "text": [
      "RMSE with Simple average: 0.9814520903637297\n",
      "RMSE: 0.8976200314532233\n"
     ]
    }
   ],
   "source": [
    "print(\"RMSE with Simple average: \" + str(rmse_with_avg(test_data)))\n",
    "print('RMSE: ' + str(rmse(item_prediction, test_data)))"
   ]
  },
  {
   "cell_type": "code",
   "execution_count": 15,
   "metadata": {
    "collapsed": false
   },
   "outputs": [],
   "source": [
    "def plot_errors(prediction, test_data):\n",
    "    prediction = prediction[test_data.nonzero()].flatten() \n",
    "    test_data = test_data[test_data.nonzero()].flatten()\n",
    "    errors = np.squeeze(np.asarray(prediction - test_data))\n",
    "    d = Counter(map(lambda x: max(min((round(x * 100) // 50) * 50 / 100, 2.5), -2.5), list(errors)))\n",
    "    #d = Counter(map(lambda x: (round(x)), list(errors)))\n",
    "    X = np.arange(len(d))\n",
    "    plt.bar(X, list(map(lambda x: x[1], sorted(zip(d.keys(), d.values())))), align='center', width=0.5)\n",
    "    plt.xticks(X, sorted(d.keys()))\n",
    "    ymax = max(d.values()) + 1\n",
    "    plt.ylim(0, ymax)\n",
    "    plt.show()"
   ]
  },
  {
   "cell_type": "code",
   "execution_count": 16,
   "metadata": {
    "collapsed": false
   },
   "outputs": [
    {
     "data": {
      "image/png": "[encoded data removed]",
      "text/plain": [
       "<matplotlib.figure.Figure at 0xe9c99c73c8>"
      ]
     },
     "metadata": {},
     "output_type": "display_data"
    }
   ],
   "source": [
    "plot_errors(item_prediction, test_data)\n"
   ]
  }
 ],
 "metadata": {
  "anaconda-cloud": {},
  "kernelspec": {
   "display_name": "Python [conda root]",
   "language": "python",
   "name": "conda-root-py"
  },
  "language_info": {
   "codemirror_mode": {
    "name": "ipython",
    "version": 3
   },
   "file_extension": ".py",
   "mimetype": "text/x-python",
   "name": "python",
   "nbconvert_exporter": "python",
   "pygments_lexer": "ipython3",
   "version": "3.5.2"
  }
 },
 "nbformat": 4,
 "nbformat_minor": 1
}
